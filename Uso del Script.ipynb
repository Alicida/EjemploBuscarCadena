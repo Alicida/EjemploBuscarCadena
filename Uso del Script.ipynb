{
 "cells": [
  {
   "cell_type": "markdown",
   "id": "54fd77ca",
   "metadata": {},
   "source": [
    "## Instalar pandas"
   ]
  },
  {
   "cell_type": "code",
   "execution_count": null,
   "id": "7793969d",
   "metadata": {},
   "outputs": [],
   "source": [
    "!pip install pandas"
   ]
  },
  {
   "cell_type": "markdown",
   "id": "ee9d6a80",
   "metadata": {},
   "source": [
    "## Instalar Xlswriter"
   ]
  },
  {
   "cell_type": "code",
   "execution_count": null,
   "id": "746cf50f",
   "metadata": {},
   "outputs": [],
   "source": [
    "!pip install XlsxWriter"
   ]
  },
  {
   "cell_type": "markdown",
   "id": "25babafb",
   "metadata": {},
   "source": [
    "## Uso del script"
   ]
  },
  {
   "cell_type": "code",
   "execution_count": null,
   "id": "ee19ae4e",
   "metadata": {},
   "outputs": [],
   "source": [
    "import stringSearchs"
   ]
  },
  {
   "cell_type": "code",
   "execution_count": null,
   "id": "418ef06c",
   "metadata": {},
   "outputs": [],
   "source": [
    "stringSearchs.buscartexto('terror')"
   ]
  },
  {
   "cell_type": "code",
   "execution_count": null,
   "id": "6bf711be",
   "metadata": {},
   "outputs": [],
   "source": []
  }
 ],
 "metadata": {
  "kernelspec": {
   "display_name": "Python 3 (ipykernel)",
   "language": "python",
   "name": "python3"
  },
  "language_info": {
   "codemirror_mode": {
    "name": "ipython",
    "version": 3
   },
   "file_extension": ".py",
   "mimetype": "text/x-python",
   "name": "python",
   "nbconvert_exporter": "python",
   "pygments_lexer": "ipython3",
   "version": "3.9.2"
  }
 },
 "nbformat": 4,
 "nbformat_minor": 5
}
